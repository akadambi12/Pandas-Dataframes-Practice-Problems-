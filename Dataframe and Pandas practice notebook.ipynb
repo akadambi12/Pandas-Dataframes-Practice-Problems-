{
 "cells": [
  {
   "cell_type": "markdown",
   "id": "80a3bd52",
   "metadata": {},
   "source": [
    "# Create Pandas Dataframe from 2D List using pd.DataFrame()"
   ]
  },
  {
   "cell_type": "code",
   "execution_count": 1,
   "id": "46292444",
   "metadata": {},
   "outputs": [
    {
     "name": "stderr",
     "output_type": "stream",
     "text": [
      "/Users/anupamakadambi/opt/anaconda3/lib/python3.9/site-packages/pandas/core/computation/expressions.py:21: UserWarning: Pandas requires version '2.8.4' or newer of 'numexpr' (version '2.8.1' currently installed).\n",
      "  from pandas.core.computation.check import NUMEXPR_INSTALLED\n",
      "/Users/anupamakadambi/opt/anaconda3/lib/python3.9/site-packages/pandas/core/arrays/masked.py:60: UserWarning: Pandas requires version '1.3.6' or newer of 'bottleneck' (version '1.3.4' currently installed).\n",
      "  from pandas.core import (\n"
     ]
    }
   ],
   "source": [
    "import pandas as pd"
   ]
  },
  {
   "cell_type": "code",
   "execution_count": 3,
   "id": "4a333295",
   "metadata": {},
   "outputs": [],
   "source": [
    "# List1  \n",
    "lst = [['Geek', 25], ['is', 30], \n",
    "       ['for', 26], ['Geeksforgeeks', 22]] "
   ]
  },
  {
   "cell_type": "code",
   "execution_count": 4,
   "id": "45745955",
   "metadata": {},
   "outputs": [],
   "source": [
    "df=pd.DataFrame(lst, columns=['Tag','Number'])"
   ]
  },
  {
   "cell_type": "code",
   "execution_count": 5,
   "id": "02e6d5c1",
   "metadata": {},
   "outputs": [
    {
     "name": "stdout",
     "output_type": "stream",
     "text": [
      "             Tag  Number\n",
      "0           Geek      25\n",
      "1             is      30\n",
      "2            for      26\n",
      "3  Geeksforgeeks      22\n"
     ]
    }
   ],
   "source": [
    "print(df)"
   ]
  },
  {
   "cell_type": "code",
   "execution_count": 9,
   "id": "61445f5e",
   "metadata": {},
   "outputs": [
    {
     "name": "stdout",
     "output_type": "stream",
     "text": [
      "               0   1\n",
      "0           Geek  25\n",
      "1             is  30\n",
      "2            for  26\n",
      "3  Geeksforgeeks  22\n"
     ]
    }
   ],
   "source": [
    "df=pd.DataFrame(lst)\n",
    "print(df)"
   ]
  },
  {
   "cell_type": "code",
   "execution_count": null,
   "id": "8044606f",
   "metadata": {},
   "outputs": [],
   "source": []
  }
 ],
 "metadata": {
  "kernelspec": {
   "display_name": "Python 3 (ipykernel)",
   "language": "python",
   "name": "python3"
  },
  "language_info": {
   "codemirror_mode": {
    "name": "ipython",
    "version": 3
   },
   "file_extension": ".py",
   "mimetype": "text/x-python",
   "name": "python",
   "nbconvert_exporter": "python",
   "pygments_lexer": "ipython3",
   "version": "3.9.12"
  }
 },
 "nbformat": 4,
 "nbformat_minor": 5
}
